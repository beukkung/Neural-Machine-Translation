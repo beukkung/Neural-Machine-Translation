{
  "cells": [
    {
      "cell_type": "code",
      "execution_count": null,
      "metadata": {},
      "outputs": [],
      "source": [
        "# %cd  /home/superai2-4031/\n",
        "# !git clone https://github.com/pytorch/fairseq.git\n",
        "# %cd fairseq\n",
        "# !pip install --editable ./\n",
        "# !pip install subword-nmt\n",
        "# !pip install torch==1.8.1+cu101 torchvision==0.9.1+cu101 \\\n",
        "# torchaudio==0.8.1 -f https://download.pytorch.org/whl/torch_stable.html"
      ]
    },
    {
      "cell_type": "code",
      "execution_count": 20,
      "metadata": {},
      "outputs": [],
      "source": [
        "from string import punctuation\n",
        "import pandas as pd\n",
        "path = \"data/\"\n",
        "scb_mt_dataset = pd.read_csv('SCB_train_all_corpus.csv')\n",
        "th = scb_mt_dataset['Thai']\n",
        "en = scb_mt_dataset['English']\n",
        "\n",
        "valid_en = open('ValidationSet/Valid1+2/dev3.en').read().translate(str.maketrans(\"\",\"\",punctuation.replace(\"'\",\"\"))).split(\"\\n\")\n",
        "valid_th = open('ValidationSet/Valid1+2/dev3.th').read().translate(str.maketrans(\"\",\"\",punctuation.replace(\"'\",\"\"))).split(\"\\n\")\n",
        "\n",
        "test_en = open('ValidationSet/Valid1+2/dev3.en').read().translate(str.maketrans(\"\",\"\",punctuation.replace(\"'\",\"\"))).split(\"\\n\")\n",
        "test_th = open('ValidationSet/Valid1+2/dev3.th').read().translate(str.maketrans(\"\",\"\",punctuation.replace(\"'\",\"\"))).split(\"\\n\")"
      ]
    },
    {
      "cell_type": "code",
      "execution_count": 21,
      "metadata": {
        "colab": {
          "base_uri": "https://localhost:8080/"
        },
        "id": "-VOsPcCsL54h",
        "outputId": "80928233-af91-41b6-d4ff-86a9459a3240"
      },
      "outputs": [
        {
          "data": {
            "text/plain": [
              "0     accommodation and food service activities expa...\n",
              "1       while food and construction materials increased\n",
              "2                 banks' deposit continued to slow down\n",
              "3                      world and us economic slowdown 2\n",
              "4              chinese economic growth hit a 6-year-low\n",
              "5     thus  farm income experienced consider-able gr...\n",
              "6           however  export of other products increased\n",
              "7            capital inflow in banking sector increased\n",
              "8            the eurozone economy slightly decelerated\n",
              "9           deposit and lending rate slightly increased\n",
              "10    however  unemployment remained its concerning ...\n",
              "11    meanwhile  agricultural and construction secto...\n",
              "12                    economic growth target for 2004 6\n",
              "13    meanwhile  the investment in construction dece...\n",
              "14              ea solar nakornsawan co  ltd solar 9019\n",
              "15    3 ) more pronounced recovery of private invest...\n",
              "16        private investment increased at a slower pace\n",
              "17             unemployment rate was low at 1.1 percent\n",
              "18              exports to the us and asean accelerated\n",
              "19    thailand power development plan ( pdp2015 ) 5-1 6\n",
              "20    meanwhile  agricultural and construction secto...\n",
              "21    meanwhile  export value of fishery products de...\n",
              "22             unemployment rate was low at 1.2 percent\n",
              "23        natural energy development co  ltd solar 5512\n",
              "24          unemployment rate stood at only 1.3 percent\n",
              "25                term of trade expanded by 1.3 percent\n",
              "26            while crop price expanded by 25.7 percent\n",
              "27          average occupancy rate was at 66.60 percent\n",
              "28    air transport expanded whilst land transport d...\n",
              "29                 • oil price continues to remain high\n",
              "30         bangchak petroleum public co  ltd solar 3014\n",
              "31     the capacity utilization rate stood 66.5 percent\n",
              "32    the average capacity utilization was at 66.8 p...\n",
              "33    in 2012  agricultural sector expanded by 3.1 p...\n",
              "34          public debt remained at 45.3 percent to gdp\n",
              "35    however  agricultural price index decreased by...\n",
              "36    for 2011  private investment expanded by 7.2 p...\n",
              "37    however  price adjustment needs to be done ste...\n",
              "38        public debt to gdp equivalent to 44.1 percent\n",
              "39    private construction  however  declined by 0.2...\n",
              "40    in 2012 construction sector increased by 7.8 p...\n",
              "41    however  the asean economies continued to grow...\n",
              "42     term of trade improved from the previous quarter\n",
              "43    in addition  credit card spending slowed down ...\n",
              "44         inflation rate is expected to be 2.4 percent\n",
              "45     high-speed train route  bangkok – hua hin94 673 \n",
              "46    on the contrary  price of agricultural product...\n",
              "47    consequently  these countries started to raise...\n",
              "48    the average occupancy rate stood at 65.38 percent\n",
              "49     table 5.1  annual targets of final energy saving\n",
              "50       further  the cost of production will be higher\n",
              "51    the capacity utilization rate stood at 71.3 pe...\n",
              "52    in 2012 industrial sector increased by 7.0 per...\n",
              "53    ( 3 ) government measures to support continuin...\n",
              "54    policy rate was kept unchanged throughout the ...\n",
              "55    import value excluding unwrought gold expanded...\n",
              "56    export market expanded in both major and other...\n",
              "57    the appreciation pressure on thai baht tends t...\n",
              "58    however  rising land price led to higher housi...\n",
              "59    after seasonal adjustment  pfce increased by 0...\n",
              "Name: English, dtype: object"
            ]
          },
          "execution_count": 21,
          "metadata": {},
          "output_type": "execute_result"
        }
      ],
      "source": [
        "en.head(60)"
      ]
    },
    {
      "cell_type": "code",
      "execution_count": 22,
      "metadata": {},
      "outputs": [
        {
          "data": {
            "text/plain": [
              "279024    ขอโทษ   รอบ 3 ทุ่ม ครึ่ง ขาย หมด แล้ว   รอบ ใก...\n",
              "279025    โอเค   เรา จอง ตั๋ว ไป ดู เดอะเลโก้ มูฟวี่ 2  ...\n",
              "279026              ตั๋ว กับ ใบ เสร็จ จะ ส่ง ไป ใน โทรศัพท์\n",
              "279027                         ด้ว ความ ยินดี   ดู ให้ สนุก\n",
              "279028                         สวัสดี   มี อะไร ให้ ช่วย คะ\n",
              "279029                สวัสดี   เรา อยาก ไป ดู หนัง บ่าย นี้\n",
              "279030                     น่า สนุก นะ   อยาก ไป ดู อะไร คะ\n",
              "279031            เรา ว่า เรา อยาก ไป ดู อิสนท์ อิทโรแมนติก\n",
              "279032                             อยู่ ที่ ทูซอน แอริโซน่า\n",
              "279033                                 โอเค   เดี๋ยว ดู ให้\n",
              "279034    เซนจูรี่ เธียเตอร์ส ที่ ตลาดทูซอน มี ฉาย รอบ 1...\n",
              "279035             รอบ บ่าย มี อะไร บ้าง   บ่าย อย่าง เดียว\n",
              "279036                รอบ บ่าย มี ตอน 2 โมง 25 กับ 4 โมง 45\n",
              "279037                            เรา รอบ 2 โมง 25 แล้ว กัน\n",
              "279038    โอเค   ไป ดู อิสนท์ อิทโรแมนติก ที่ โรงเซนจูรี...\n",
              "279039    ขอโทษ   รอบ 2 โมง 25 ขาย หมด แล้ว   อยาก ไป ดู...\n",
              "279040    เยี่ยม   เดี๋ยว จอง ให้   เรียบร้อย   เดี๋ยว ส...\n",
              "279041                          ไม่   แค่ นี้ แหละ   ขอบคุณ\n",
              "279042                    เรา อยาก สั่ง กาแฟ จาก สตาร์บัคส์\n",
              "279043      เรา อยาก ได้ คาราเมล คลาวด์ มัคคี อาโต้   น่...\n",
              "279044                     เรา อยู่ สตาร์บัคส์ ที่ เพนทากอน\n",
              "279045                      น่า สนใจ   อยาก ได้ ขนาด ไหน คะ\n",
              "279046                           อยาก ได้ ร้อน หรือ เย็น คะ\n",
              "279047                                  อยาก ได้ นม อะไร คะ\n",
              "279048    เยี่ยม   เอา คาราเมลคลาวด์ มัคคี อาโต้เย็น ใส่...\n",
              "279049                ราคา 4 . 50 ดอล   ให้ สั่ง เลย ไหม คะ\n",
              "279050                     สวัสดี   มี อะไร ให้ ช่วย ไหม คะ\n",
              "279051               เรา อยาก ไป ดู หนัง กับ เพื่อน คืน นี้\n",
              "279052       ได้ยิน ว่า มี ฉาย อะด็อกส์เวย์โฮมตอน 3 ทุ่ม 50\n",
              "279053      โอเค   ไป ดู อะด็อกส์เวย์โฮม 2 คน ตอน 3 ทุ่ม 50\n",
              "279054    รอบ นี่ ไม่ มี ที่ ว่าง ติด กัน   อยาก ดู รอบ ...\n",
              "279055                              เหมือน มี รอบ 1 ทุ่ม 25\n",
              "279056                                 โอเค   เดี๋ยว ดู ให้\n",
              "279057                  ข่าว ดี   เรา เจอ ที่ นั่ง ข้าง กัน\n",
              "279058                               ให้ เรา จอง เลย ไหม คะ\n",
              "279059    โอเค   ไป ดู อะด็อกส์เวย์โฮม 2 คน ตอน 1 ทุ่ม 2...\n",
              "279060                        เดี๋ยว ส่ง ตั๋ว ไป ใน ข้อความ\n",
              "279061                                         ขอบคุณ มาก ๆ\n",
              "279062                            สวัสดี   เป็น ยัง ไง บ้าง\n",
              "279063            ดี   หิว มาก ๆ เลย   อยาก ไป รับ พิซซ่ามา\n",
              "279064                                 อยาก สั่ง จาก ไหน คะ\n",
              "279065    ขอโทษ   ที่ ร้าน เบลล่าลูน่า   เรา ว่า เขา ใกล...\n",
              "279066                        ได้ เลย   อยาก ได้ กี่ ถาด คะ\n",
              "279067                              อยาก ได้ ถาด กลาง 3 ถาด\n",
              "279068    อยาก ได้ เวจ จี้ ลัฟเวอร์ 1 ถาด   เพิ่ม ชีส 1 ...\n",
              "279069    ถาด กลาง 3 ถาด   เวจจี้ ลัฟเวอร์ 1 ถาด   เพิ่ม...\n",
              "279070                        เอา ขอบกลูเต็น ฟรี ทั้ง 3 ถาด\n",
              "279071      เพิ่ม ขอบกลูเต็น ฟรี   ราคา ตอน นี้ 69 . 69 ดอล\n",
              "279072                           เยี่ยม เลย   เดี๋ยว ไป รับ\n",
              "279073    เดี๋ยว เสร็จ ใน 30 นาที   เดี๋ยว ส่ง ใบ เสร็จ ...\n",
              "Name: Thai, dtype: object"
            ]
          },
          "execution_count": 22,
          "metadata": {},
          "output_type": "execute_result"
        }
      ],
      "source": [
        "th.tail(50)"
      ]
    },
    {
      "cell_type": "code",
      "execution_count": 23,
      "metadata": {
        "id": "zgzFY1GDL_Xm"
      },
      "outputs": [],
      "source": [
        "sel_en, sel_th = [],[]\n",
        "for e,t in zip(en,th):\n",
        "  if (e.count(' ') >= 5):\n",
        "    sel_en.append(e)\n",
        "    sel_th.append(t.strip())"
      ]
    },
    {
      "cell_type": "code",
      "execution_count": 24,
      "metadata": {},
      "outputs": [
        {
          "data": {
            "text/plain": [
              "236713"
            ]
          },
          "execution_count": 24,
          "metadata": {},
          "output_type": "execute_result"
        }
      ],
      "source": [
        "len(sel_en)"
      ]
    },
    {
      "cell_type": "code",
      "execution_count": 25,
      "metadata": {
        "id": "EkaZdlpRPtH4"
      },
      "outputs": [],
      "source": [
        "train_en_100k = sel_en\n",
        "test_en_100k = aun_en\n",
        "val_en_100k = valid_en\n",
        "train_th_100k = sel_th\n",
        "test_th_100k = aun_th\n",
        "val_th_100k = valid_th"
      ]
    },
    {
      "cell_type": "code",
      "execution_count": 26,
      "metadata": {
        "colab": {
          "base_uri": "https://localhost:8080/"
        },
        "id": "jVmnuaZTNDmm",
        "outputId": "3c85e0d0-7a77-4cda-e4d8-0e2eb1fd8f5a"
      },
      "outputs": [
        {
          "data": {
            "text/plain": [
              "225076"
            ]
          },
          "execution_count": 26,
          "metadata": {},
          "output_type": "execute_result"
        }
      ],
      "source": [
        "open(path+\"train_en_100k\",'w').write(\"\\n\".join(train_en_100k))\n",
        "open(path+\"test_en_100k\",'w').write(\"\\n\".join(test_en_100k))\n",
        "open(path+\"val_en_100k\",'w').write(\"\\n\".join(val_en_100k))\n",
        "open(path+\"train_th_100k\",'w').write(\"\\n\".join(train_th_100k))\n",
        "open(path+\"test_th_100k\",'w').write(\"\\n\".join(test_th_100k))\n",
        "open(path+\"val_th_100k\",'w').write(\"\\n\".join(val_th_100k))"
      ]
    },
    {
      "cell_type": "code",
      "execution_count": 27,
      "metadata": {
        "colab": {
          "base_uri": "https://localhost:8080/"
        },
        "id": "jHm0Rp0VPWyI",
        "outputId": "98d1a013-cc10-4604-fc6a-352adbd5d416"
      },
      "outputs": [
        {
          "name": "stdout",
          "output_type": "stream",
          "text": [
            "shell-init: error retrieving current directory: getcwd: cannot access parent directories: No such file or directory\n",
            "shell-init: error retrieving current directory: getcwd: cannot access parent directories: No such file or directory\n",
            " 51%|#################2                | 76111/150000 [02:44<00:43, 1709.55it/s]no pair has frequency >= 2. Stopping\n",
            " 51%|#################8                 | 76362/150000 [02:45<02:39, 460.93it/s]\n",
            "shell-init: error retrieving current directory: getcwd: cannot access parent directories: No such file or directory\n",
            " 62%|#####################             | 92900/150000 [05:20<00:35, 1605.99it/s]no pair has frequency >= 2. Stopping\n",
            " 62%|#####################6             | 92929/150000 [05:21<03:17, 288.64it/s]\n"
          ]
        }
      ],
      "source": [
        "!mkdir /home/superai2-4031/data/bpe\n",
        "\n",
        "!subword-nmt learn-bpe -s 150000 \\\n",
        "< /home/superai2-4031/data/train_en_100k > /home/superai2-4031/data/bpe/src.bpe\n",
        "\n",
        "!subword-nmt learn-bpe -s 150000 \\\n",
        "< /home/superai2-4031/data/train_th_100k > /home/superai2-4031/data/bpe/trg.bpe"
      ]
    },
    {
      "cell_type": "code",
      "execution_count": 28,
      "metadata": {
        "id": "Pb0VfcmWY2Up"
      },
      "outputs": [
        {
          "name": "stdout",
          "output_type": "stream",
          "text": [
            "shell-init: error retrieving current directory: getcwd: cannot access parent directories: No such file or directory\n",
            "shell-init: error retrieving current directory: getcwd: cannot access parent directories: No such file or directory\n",
            "shell-init: error retrieving current directory: getcwd: cannot access parent directories: No such file or directory\n",
            "shell-init: error retrieving current directory: getcwd: cannot access parent directories: No such file or directory\n",
            "shell-init: error retrieving current directory: getcwd: cannot access parent directories: No such file or directory\n",
            "shell-init: error retrieving current directory: getcwd: cannot access parent directories: No such file or directory\n"
          ]
        }
      ],
      "source": [
        "!subword-nmt apply-bpe --dropout 0.1 --seed 56 -c /home/superai2-4031/data/bpe/src.bpe \\\n",
        "< /home/superai2-4031/data/train_en_100k > /home/superai2-4031/data/bpe/train.bpe.src\n",
        "\n",
        "!subword-nmt apply-bpe  --dropout 0.1 --seed 56 -c /home/superai2-4031/data/bpe/src.bpe \\\n",
        "< /home/superai2-4031/data/test_en_100k > /home/superai2-4031/data/bpe/test.bpe.src\n",
        "\n",
        "!subword-nmt apply-bpe  --dropout 0.1 --seed 56 -c /home/superai2-4031/data/bpe/src.bpe \\\n",
        "< /home/superai2-4031/data/val_en_100k > /home/superai2-4031/data/bpe/val.bpe.src\n",
        "\n",
        "!subword-nmt apply-bpe  --dropout 0.1 --seed 56 -c /home/superai2-4031/data/bpe/trg.bpe \\\n",
        "< /home/superai2-4031/data/train_th_100k > /home/superai2-4031/data/bpe/train.bpe.trg\n",
        "\n",
        "!subword-nmt apply-bpe  --dropout 0.1 --seed 56 -c /home/superai2-4031/data/bpe/trg.bpe \\\n",
        "< /home/superai2-4031/data/test_th_100k > /home/superai2-4031/data/bpe/test.bpe.trg\n",
        "\n",
        "!subword-nmt apply-bpe  --dropout 0.1 --seed 56 -c /home/superai2-4031/data/bpe/trg.bpe \\\n",
        "< /home/superai2-4031/data/val_th_100k > /home/superai2-4031/data/bpe/val.bpe.trg"
      ]
    },
    {
      "cell_type": "code",
      "execution_count": 29,
      "metadata": {
        "colab": {
          "base_uri": "https://localhost:8080/"
        },
        "id": "6knOdcMpZHgr",
        "outputId": "fd7c67f0-429c-46fc-9357-9101a5ad7548"
      },
      "outputs": [
        {
          "name": "stdout",
          "output_type": "stream",
          "text": [
            "shell-init: error retrieving current directory: getcwd: cannot access parent directories: No such file or directory\n",
            "src.bpe       test.bpe.trg   train.bpe.trg  val.bpe.src\n",
            "test.bpe.src  train.bpe.src  trg.bpe\t    val.bpe.trg\n"
          ]
        }
      ],
      "source": [
        "!ls /home/superai2-4031/data/bpe/"
      ]
    },
    {
      "cell_type": "code",
      "execution_count": 30,
      "metadata": {},
      "outputs": [],
      "source": [
        "# %cd  /home/superai2-4031/\n",
        "# !git clone https://github.com/pytorch/fairseq.git\n",
        "# %cd fairseq\n",
        "# !git clone https://github.com/cython/cython.git\n",
        "# %cd cython\n",
        "# !git checkout 756b795\n",
        "# !pip install --editable .\n",
        "# %cd ..\n",
        "# !pip install --editable .\n",
        "# !python setup.py build_ext -inplace"
      ]
    },
    {
      "cell_type": "code",
      "execution_count": 31,
      "metadata": {
        "colab": {
          "base_uri": "https://localhost:8080/"
        },
        "id": "spCL2Q0dZ5mj",
        "outputId": "5aa6dc4d-fdaf-467a-ab0e-628b95c53b4f"
      },
      "outputs": [
        {
          "name": "stdout",
          "output_type": "stream",
          "text": [
            "shell-init: error retrieving current directory: getcwd: cannot access parent directories: No such file or directory\n",
            "    76363 /home/superai2-4031/data/bpe/src.bpe\n",
            "     3017 /home/superai2-4031/data/bpe/test.bpe.src\n",
            "     3017 /home/superai2-4031/data/bpe/test.bpe.trg\n",
            "   236712 /home/superai2-4031/data/bpe/train.bpe.src\n",
            "   236712 /home/superai2-4031/data/bpe/train.bpe.trg\n",
            "    92930 /home/superai2-4031/data/bpe/trg.bpe\n",
            "     3017 /home/superai2-4031/data/bpe/val.bpe.src\n",
            "     3017 /home/superai2-4031/data/bpe/val.bpe.trg\n",
            "   654785 total\n"
          ]
        }
      ],
      "source": [
        "!wc -l /home/superai2-4031/data/bpe/*bpe*"
      ]
    },
    {
      "cell_type": "code",
      "execution_count": 32,
      "metadata": {
        "colab": {
          "base_uri": "https://localhost:8080/"
        },
        "id": "Z-aOV5tBbdng",
        "outputId": "95c5bc41-76ec-45dd-d258-5ae8015cc867"
      },
      "outputs": [
        {
          "name": "stdout",
          "output_type": "stream",
          "text": [
            "/home/superai2-4031/data/bpe\n"
          ]
        }
      ],
      "source": [
        "%cd /home/superai2-4031/data/bpe"
      ]
    },
    {
      "cell_type": "code",
      "execution_count": 33,
      "metadata": {
        "colab": {
          "base_uri": "https://localhost:8080/"
        },
        "id": "FL9crnZHbm5h",
        "outputId": "6150a054-2de3-4e66-f576-3ba4b18443c3"
      },
      "outputs": [
        {
          "name": "stdout",
          "output_type": "stream",
          "text": [
            "2022-03-10 22:31:58 | INFO | fairseq_cli.preprocess | Namespace(no_progress_bar=False, log_interval=100, log_format=None, log_file=None, tensorboard_logdir=None, wandb_project=None, azureml_logging=False, seed=1, cpu=False, tpu=False, bf16=False, memory_efficient_bf16=False, fp16=False, memory_efficient_fp16=False, fp16_no_flatten_grads=False, fp16_init_scale=128, fp16_scale_window=None, fp16_scale_tolerance=0.0, on_cpu_convert_precision=False, min_loss_scale=0.0001, threshold_loss_scale=None, amp=False, amp_batch_retries=2, amp_init_scale=128, amp_scale_window=None, user_dir=None, empty_cache_freq=0, all_gather_list_size=16384, model_parallel_size=1, quantization_config_path=None, profile=False, reset_logging=False, suppress_crashes=False, use_plasma_view=False, plasma_path='/tmp/plasma', criterion='cross_entropy', tokenizer=None, bpe=None, optimizer=None, lr_scheduler='fixed', simul_type=None, scoring='bleu', task='translation', source_lang='src', target_lang='trg', trainpref='./train.bpe', validpref='./val.bpe', testpref='./test.bpe', align_suffix=None, destdir='./data_enth_bin/', thresholdtgt=0, thresholdsrc=0, tgtdict=None, srcdict=None, nwordstgt=-1, nwordssrc=-1, alignfile=None, dataset_impl='mmap', joined_dictionary=False, only_source=False, padding_factor=8, workers=8, dict_only=False)\n",
            "2022-03-10 22:32:05 | INFO | fairseq_cli.preprocess | [src] Dictionary: 69016 types\n",
            "2022-03-10 22:32:13 | INFO | fairseq_cli.preprocess | [src] ./train.bpe.src: 236713 sents, 6482391 tokens, 0.0% replaced (by <unk>)\n",
            "2022-03-10 22:32:13 | INFO | fairseq_cli.preprocess | [src] Dictionary: 69016 types\n",
            "2022-03-10 22:32:13 | INFO | fairseq_cli.preprocess | [src] ./val.bpe.src: 3018 sents, 66144 tokens, 13.1% replaced (by <unk>)\n",
            "2022-03-10 22:32:13 | INFO | fairseq_cli.preprocess | [src] Dictionary: 69016 types\n",
            "2022-03-10 22:32:14 | INFO | fairseq_cli.preprocess | [src] ./test.bpe.src: 3018 sents, 66245 tokens, 13.1% replaced (by <unk>)\n",
            "2022-03-10 22:32:14 | INFO | fairseq_cli.preprocess | [trg] Dictionary: 81336 types\n",
            "2022-03-10 22:32:28 | INFO | fairseq_cli.preprocess | [trg] ./train.bpe.trg: 236713 sents, 7855906 tokens, 0.0% replaced (by <unk>)\n",
            "2022-03-10 22:32:28 | INFO | fairseq_cli.preprocess | [trg] Dictionary: 81336 types\n",
            "2022-03-10 22:32:28 | INFO | fairseq_cli.preprocess | [trg] ./val.bpe.trg: 3018 sents, 67456 tokens, 0.471% replaced (by <unk>)\n",
            "2022-03-10 22:32:28 | INFO | fairseq_cli.preprocess | [trg] Dictionary: 81336 types\n",
            "2022-03-10 22:32:29 | INFO | fairseq_cli.preprocess | [trg] ./test.bpe.trg: 3018 sents, 67526 tokens, 0.487% replaced (by <unk>)\n",
            "2022-03-10 22:32:29 | INFO | fairseq_cli.preprocess | Wrote preprocessed data to ./data_enth_bin/\n"
          ]
        }
      ],
      "source": [
        "#!python /content/fairseq/fairseq_cli/preprocess.py \\\n",
        "!python 'fairseq/fairseq_cli/preprocess.py' \\\n",
        "--trainpref ./train.bpe -s src -t trg \\\n",
        "--testpref ./test.bpe \\\n",
        "--validpref ./val.bpe \\\n",
        "--destdir ./data_enth_bin/ \\\n",
        "--workers 8\n"
      ]
    },
    {
      "cell_type": "code",
      "execution_count": 34,
      "metadata": {
        "colab": {
          "base_uri": "https://localhost:8080/"
        },
        "id": "t8kqVkbReIvr",
        "outputId": "d78b3a62-8a81-4b85-86f6-121a2e3c783c"
      },
      "outputs": [
        {
          "name": "stdout",
          "output_type": "stream",
          "text": [
            "/home/superai2-4031/data/bpe\n",
            "2022-03-10 22:32:31 | INFO | fairseq_cli.train | {'_name': None, 'common': {'_name': None, 'no_progress_bar': False, 'log_interval': 100, 'log_format': None, 'log_file': None, 'tensorboard_logdir': None, 'wandb_project': None, 'azureml_logging': False, 'seed': 1, 'cpu': False, 'tpu': False, 'bf16': False, 'memory_efficient_bf16': False, 'fp16': True, 'memory_efficient_fp16': False, 'fp16_no_flatten_grads': False, 'fp16_init_scale': 128, 'fp16_scale_window': None, 'fp16_scale_tolerance': 0.0, 'on_cpu_convert_precision': False, 'min_loss_scale': 0.0001, 'threshold_loss_scale': None, 'amp': False, 'amp_batch_retries': 2, 'amp_init_scale': 128, 'amp_scale_window': None, 'user_dir': None, 'empty_cache_freq': 0, 'all_gather_list_size': 16384, 'model_parallel_size': 1, 'quantization_config_path': None, 'profile': False, 'reset_logging': False, 'suppress_crashes': False, 'use_plasma_view': False, 'plasma_path': '/tmp/plasma'}, 'common_eval': {'_name': None, 'path': None, 'post_process': None, 'quiet': False, 'model_overrides': '{}', 'results_path': None}, 'distributed_training': {'_name': None, 'distributed_world_size': 1, 'distributed_num_procs': 1, 'distributed_rank': 0, 'distributed_backend': 'nccl', 'distributed_init_method': None, 'distributed_port': -1, 'device_id': 2, 'distributed_no_spawn': False, 'ddp_backend': 'pytorch_ddp', 'ddp_comm_hook': 'none', 'bucket_cap_mb': 25, 'fix_batches_to_gpus': False, 'find_unused_parameters': False, 'gradient_as_bucket_view': False, 'fast_stat_sync': False, 'heartbeat_timeout': -1, 'broadcast_buffers': False, 'slowmo_momentum': None, 'slowmo_base_algorithm': 'localsgd', 'localsgd_frequency': 3, 'nprocs_per_node': 4, 'pipeline_model_parallel': False, 'pipeline_balance': None, 'pipeline_devices': None, 'pipeline_chunks': 0, 'pipeline_encoder_balance': None, 'pipeline_encoder_devices': None, 'pipeline_decoder_balance': None, 'pipeline_decoder_devices': None, 'pipeline_checkpoint': 'never', 'zero_sharding': 'none', 'fp16': True, 'memory_efficient_fp16': False, 'tpu': False, 'no_reshard_after_forward': False, 'fp32_reduce_scatter': False, 'cpu_offload': False, 'use_sharded_state': False, 'not_fsdp_flatten_parameters': False}, 'dataset': {'_name': None, 'num_workers': 1, 'skip_invalid_size_inputs_valid_test': False, 'max_tokens': 4096, 'batch_size': 4096, 'required_batch_size_multiple': 8, 'required_seq_len_multiple': 1, 'dataset_impl': None, 'data_buffer_size': 10, 'train_subset': 'train', 'valid_subset': 'valid', 'combine_valid_subsets': None, 'ignore_unused_valid_subsets': False, 'validate_interval': 1, 'validate_interval_updates': 0, 'validate_after_updates': 0, 'fixed_validation_seed': None, 'disable_validation': False, 'max_tokens_valid': 4096, 'batch_size_valid': 4096, 'max_valid_steps': None, 'curriculum': 0, 'gen_subset': 'test', 'num_shards': 1, 'shard_id': 0, 'grouped_shuffling': False, 'update_epoch_batch_itr': False, 'update_ordered_indices_seed': False}, 'optimization': {'_name': None, 'max_epoch': 150, 'max_update': 0, 'stop_time_hours': 0.0, 'clip_norm': 0.0, 'sentence_avg': False, 'update_freq': [5], 'lr': [0.001], 'stop_min_lr': -1.0, 'use_bmuf': False, 'skip_remainder_batch': False}, 'checkpoint': {'_name': None, 'save_dir': 'checkpoints/transformer', 'restore_file': 'checkpoint_last.pt', 'continue_once': None, 'finetune_from_model': None, 'reset_dataloader': False, 'reset_lr_scheduler': False, 'reset_meters': False, 'reset_optimizer': False, 'optimizer_overrides': '{}', 'save_interval': 1, 'save_interval_updates': 0, 'keep_interval_updates': -1, 'keep_interval_updates_pattern': -1, 'keep_last_epochs': 15, 'keep_best_checkpoints': -1, 'no_save': False, 'no_epoch_checkpoints': False, 'no_last_checkpoints': False, 'no_save_optimizer_state': False, 'best_checkpoint_metric': 'loss', 'maximize_best_checkpoint_metric': False, 'patience': -1, 'checkpoint_suffix': '', 'checkpoint_shard_count': 1, 'load_checkpoint_on_all_dp_ranks': False, 'write_checkpoints_asynchronously': False, 'model_parallel_size': 1}, 'bmuf': {'_name': None, 'block_lr': 1.0, 'block_momentum': 0.875, 'global_sync_iter': 50, 'warmup_iterations': 500, 'use_nbm': False, 'average_sync': False, 'distributed_world_size': 1}, 'generation': {'_name': None, 'beam': 5, 'nbest': 1, 'max_len_a': 0.0, 'max_len_b': 200, 'min_len': 1, 'match_source_len': False, 'unnormalized': False, 'no_early_stop': False, 'no_beamable_mm': False, 'lenpen': 1.0, 'unkpen': 0.0, 'replace_unk': None, 'sacrebleu': False, 'score_reference': False, 'prefix_size': 0, 'no_repeat_ngram_size': 0, 'sampling': False, 'sampling_topk': -1, 'sampling_topp': -1.0, 'constraints': None, 'temperature': 1.0, 'diverse_beam_groups': -1, 'diverse_beam_strength': 0.5, 'diversity_rate': -1.0, 'print_alignment': None, 'print_step': False, 'lm_path': None, 'lm_weight': 0.0, 'iter_decode_eos_penalty': 0.0, 'iter_decode_max_iter': 10, 'iter_decode_force_max_iter': False, 'iter_decode_with_beam': 1, 'iter_decode_with_external_reranker': False, 'retain_iter_history': False, 'retain_dropout': False, 'retain_dropout_modules': None, 'decoding_format': None, 'no_seed_provided': False}, 'eval_lm': {'_name': None, 'output_word_probs': False, 'output_word_stats': False, 'context_window': 0, 'softmax_batch': 9223372036854775807}, 'interactive': {'_name': None, 'buffer_size': 0, 'input': '-'}, 'model': Namespace(no_progress_bar=False, log_interval=100, log_format=None, log_file=None, tensorboard_logdir=None, wandb_project=None, azureml_logging=False, seed=1, cpu=False, tpu=False, bf16=False, memory_efficient_bf16=False, fp16=True, memory_efficient_fp16=False, fp16_no_flatten_grads=False, fp16_init_scale=128, fp16_scale_window=None, fp16_scale_tolerance=0.0, on_cpu_convert_precision=False, min_loss_scale=0.0001, threshold_loss_scale=None, amp=False, amp_batch_retries=2, amp_init_scale=128, amp_scale_window=None, user_dir=None, empty_cache_freq=0, all_gather_list_size=16384, model_parallel_size=1, quantization_config_path=None, profile=False, reset_logging=False, suppress_crashes=False, use_plasma_view=False, plasma_path='/tmp/plasma', criterion='label_smoothed_cross_entropy', tokenizer=None, bpe=None, optimizer='adam', lr_scheduler='inverse_sqrt', simul_type=None, scoring='sacrebleu', task='translation', num_workers=1, skip_invalid_size_inputs_valid_test=False, max_tokens=4096, batch_size=4096, required_batch_size_multiple=8, required_seq_len_multiple=1, dataset_impl=None, data_buffer_size=10, train_subset='train', valid_subset='valid', combine_valid_subsets=None, ignore_unused_valid_subsets=False, validate_interval=1, validate_interval_updates=0, validate_after_updates=0, fixed_validation_seed=None, disable_validation=False, max_tokens_valid=4096, batch_size_valid=4096, max_valid_steps=None, curriculum=0, gen_subset='test', num_shards=1, shard_id=0, grouped_shuffling=False, update_epoch_batch_itr=False, update_ordered_indices_seed=False, distributed_world_size=1, distributed_num_procs=4, distributed_rank=0, distributed_backend='nccl', distributed_init_method=None, distributed_port=-1, device_id=2, distributed_no_spawn=False, ddp_backend='pytorch_ddp', ddp_comm_hook='none', bucket_cap_mb=25, fix_batches_to_gpus=False, find_unused_parameters=False, gradient_as_bucket_view=False, fast_stat_sync=False, heartbeat_timeout=-1, broadcast_buffers=False, slowmo_momentum=None, slowmo_base_algorithm='localsgd', localsgd_frequency=3, nprocs_per_node=4, pipeline_model_parallel=False, pipeline_balance=None, pipeline_devices=None, pipeline_chunks=0, pipeline_encoder_balance=None, pipeline_encoder_devices=None, pipeline_decoder_balance=None, pipeline_decoder_devices=None, pipeline_checkpoint='never', zero_sharding='none', no_reshard_after_forward=False, fp32_reduce_scatter=False, cpu_offload=False, use_sharded_state=False, not_fsdp_flatten_parameters=False, arch='transformer', max_epoch=150, max_update=0, stop_time_hours=0, clip_norm=0.0, sentence_avg=False, update_freq=[5], lr=[0.001], stop_min_lr=-1.0, use_bmuf=False, skip_remainder_batch=False, save_dir='checkpoints/transformer', restore_file='checkpoint_last.pt', continue_once=None, finetune_from_model=None, reset_dataloader=False, reset_lr_scheduler=False, reset_meters=False, reset_optimizer=False, optimizer_overrides='{}', save_interval=1, save_interval_updates=0, keep_interval_updates=-1, keep_interval_updates_pattern=-1, keep_last_epochs=15, keep_best_checkpoints=-1, no_save=False, no_epoch_checkpoints=False, no_last_checkpoints=False, no_save_optimizer_state=False, best_checkpoint_metric='loss', maximize_best_checkpoint_metric=False, patience=-1, checkpoint_suffix='', checkpoint_shard_count=1, load_checkpoint_on_all_dp_ranks=False, write_checkpoints_asynchronously=False, store_ema=False, ema_decay=0.9999, ema_start_update=0, ema_seed_model=None, ema_update_freq=1, ema_fp32=False, data='./data_enth_bin', source_lang=None, target_lang=None, load_alignments=False, left_pad_source=True, left_pad_target=False, upsample_primary=-1, truncate_source=False, num_batch_buckets=0, eval_bleu=False, eval_bleu_args='{}', eval_bleu_detok='space', eval_bleu_detok_args='{}', eval_tokenized_bleu=False, eval_bleu_remove_bpe=None, eval_bleu_print_samples=False, label_smoothing=0.1, report_accuracy=False, ignore_prefix_size=0, adam_betas='(0.9, 0.98)', adam_eps=1e-08, weight_decay=0.0, use_old_adam=False, fp16_adam_stats=False, warmup_updates=4000, warmup_init_lr=1e-07, sacrebleu_tokenizer='13a', sacrebleu_lowercase=False, sacrebleu_char_level=False, decoder_layers=8, encoder_embed_dim=512, share_decoder_input_output_embed=True, dropout=0.1, no_seed_provided=False, encoder_embed_path=None, encoder_ffn_embed_dim=2048, encoder_layers=6, encoder_attention_heads=8, encoder_normalize_before=False, encoder_learned_pos=False, decoder_embed_path=None, decoder_embed_dim=512, decoder_ffn_embed_dim=2048, decoder_attention_heads=8, decoder_normalize_before=False, decoder_learned_pos=False, attention_dropout=0.0, activation_dropout=0.0, activation_fn='relu', adaptive_softmax_cutoff=None, adaptive_softmax_dropout=0, share_all_embeddings=False, no_token_positional_embeddings=False, adaptive_input=False, no_cross_attention=False, cross_self_attention=False, decoder_output_dim=512, decoder_input_dim=512, no_scale_embedding=False, layernorm_embedding=False, tie_adaptive_weights=False, checkpoint_activations=False, offload_activations=False, encoder_layers_to_keep=None, decoder_layers_to_keep=None, encoder_layerdrop=0, decoder_layerdrop=0, quant_noise_pq=0, quant_noise_pq_block_size=8, quant_noise_scalar=0, _name='transformer'), 'task': {'_name': 'translation', 'data': './data_enth_bin', 'source_lang': None, 'target_lang': None, 'load_alignments': False, 'left_pad_source': True, 'left_pad_target': False, 'max_source_positions': 1024, 'max_target_positions': 1024, 'upsample_primary': -1, 'truncate_source': False, 'num_batch_buckets': 0, 'train_subset': 'train', 'dataset_impl': None, 'required_seq_len_multiple': 1, 'eval_bleu': False, 'eval_bleu_args': '{}', 'eval_bleu_detok': 'space', 'eval_bleu_detok_args': '{}', 'eval_tokenized_bleu': False, 'eval_bleu_remove_bpe': None, 'eval_bleu_print_samples': False}, 'criterion': {'_name': 'label_smoothed_cross_entropy', 'label_smoothing': 0.1, 'report_accuracy': False, 'ignore_prefix_size': 0, 'sentence_avg': False}, 'optimizer': {'_name': 'adam', 'adam_betas': '(0.9, 0.98)', 'adam_eps': 1e-08, 'weight_decay': 0.0, 'use_old_adam': False, 'fp16_adam_stats': False, 'tpu': False, 'lr': [0.001]}, 'lr_scheduler': {'_name': 'inverse_sqrt', 'warmup_updates': 4000, 'warmup_init_lr': 1e-07, 'lr': [0.001]}, 'scoring': {'_name': 'sacrebleu', 'sacrebleu_tokenizer': 13a, 'sacrebleu_lowercase': False, 'sacrebleu_char_level': False}, 'bpe': None, 'tokenizer': None, 'ema': {'_name': None, 'store_ema': False, 'ema_decay': 0.9999, 'ema_start_update': 0, 'ema_seed_model': None, 'ema_update_freq': 1, 'ema_fp32': False}, 'simul_type': None}\n",
            "2022-03-10 22:32:32 | INFO | fairseq.tasks.translation | [src] dictionary: 69016 types\n",
            "2022-03-10 22:32:32 | INFO | fairseq.tasks.translation | [trg] dictionary: 81336 types\n",
            "2022-03-10 22:32:34 | INFO | fairseq_cli.train | TransformerModel(\n",
            "  (encoder): TransformerEncoderBase(\n",
            "    (dropout_module): FairseqDropout()\n",
            "    (embed_tokens): Embedding(69016, 512, padding_idx=1)\n",
            "    (embed_positions): SinusoidalPositionalEmbedding()\n",
            "    (layers): ModuleList(\n",
            "      (0): TransformerEncoderLayerBase(\n",
            "        (self_attn): MultiheadAttention(\n",
            "          (dropout_module): FairseqDropout()\n",
            "          (k_proj): Linear(in_features=512, out_features=512, bias=True)\n",
            "          (v_proj): Linear(in_features=512, out_features=512, bias=True)\n",
            "          (q_proj): Linear(in_features=512, out_features=512, bias=True)\n",
            "          (out_proj): Linear(in_features=512, out_features=512, bias=True)\n",
            "        )\n",
            "        (self_attn_layer_norm): LayerNorm((512,), eps=1e-05, elementwise_affine=True)\n",
            "        (dropout_module): FairseqDropout()\n",
            "        (activation_dropout_module): FairseqDropout()\n",
            "        (fc1): Linear(in_features=512, out_features=2048, bias=True)\n",
            "        (fc2): Linear(in_features=2048, out_features=512, bias=True)\n",
            "        (final_layer_norm): LayerNorm((512,), eps=1e-05, elementwise_affine=True)\n",
            "      )\n",
            "      (1): TransformerEncoderLayerBase(\n",
            "        (self_attn): MultiheadAttention(\n",
            "          (dropout_module): FairseqDropout()\n",
            "          (k_proj): Linear(in_features=512, out_features=512, bias=True)\n",
            "          (v_proj): Linear(in_features=512, out_features=512, bias=True)\n",
            "          (q_proj): Linear(in_features=512, out_features=512, bias=True)\n",
            "          (out_proj): Linear(in_features=512, out_features=512, bias=True)\n",
            "        )\n",
            "        (self_attn_layer_norm): LayerNorm((512,), eps=1e-05, elementwise_affine=True)\n",
            "        (dropout_module): FairseqDropout()\n",
            "        (activation_dropout_module): FairseqDropout()\n",
            "        (fc1): Linear(in_features=512, out_features=2048, bias=True)\n",
            "        (fc2): Linear(in_features=2048, out_features=512, bias=True)\n",
            "        (final_layer_norm): LayerNorm((512,), eps=1e-05, elementwise_affine=True)\n",
            "      )\n",
            "      (2): TransformerEncoderLayerBase(\n",
            "        (self_attn): MultiheadAttention(\n",
            "          (dropout_module): FairseqDropout()\n",
            "          (k_proj): Linear(in_features=512, out_features=512, bias=True)\n",
            "          (v_proj): Linear(in_features=512, out_features=512, bias=True)\n",
            "          (q_proj): Linear(in_features=512, out_features=512, bias=True)\n",
            "          (out_proj): Linear(in_features=512, out_features=512, bias=True)\n",
            "        )\n",
            "        (self_attn_layer_norm): LayerNorm((512,), eps=1e-05, elementwise_affine=True)\n",
            "        (dropout_module): FairseqDropout()\n",
            "        (activation_dropout_module): FairseqDropout()\n",
            "        (fc1): Linear(in_features=512, out_features=2048, bias=True)\n",
            "        (fc2): Linear(in_features=2048, out_features=512, bias=True)\n",
            "        (final_layer_norm): LayerNorm((512,), eps=1e-05, elementwise_affine=True)\n",
            "      )\n",
            "      (3): TransformerEncoderLayerBase(\n",
            "        (self_attn): MultiheadAttention(\n",
            "          (dropout_module): FairseqDropout()\n",
            "          (k_proj): Linear(in_features=512, out_features=512, bias=True)\n",
            "          (v_proj): Linear(in_features=512, out_features=512, bias=True)\n",
            "          (q_proj): Linear(in_features=512, out_features=512, bias=True)\n",
            "          (out_proj): Linear(in_features=512, out_features=512, bias=True)\n",
            "        )\n",
            "        (self_attn_layer_norm): LayerNorm((512,), eps=1e-05, elementwise_affine=True)\n",
            "        (dropout_module): FairseqDropout()\n",
            "        (activation_dropout_module): FairseqDropout()\n",
            "        (fc1): Linear(in_features=512, out_features=2048, bias=True)\n",
            "        (fc2): Linear(in_features=2048, out_features=512, bias=True)\n",
            "        (final_layer_norm): LayerNorm((512,), eps=1e-05, elementwise_affine=True)\n",
            "      )\n",
            "      (4): TransformerEncoderLayerBase(\n",
            "        (self_attn): MultiheadAttention(\n",
            "          (dropout_module): FairseqDropout()\n",
            "          (k_proj): Linear(in_features=512, out_features=512, bias=True)\n",
            "          (v_proj): Linear(in_features=512, out_features=512, bias=True)\n",
            "          (q_proj): Linear(in_features=512, out_features=512, bias=True)\n",
            "          (out_proj): Linear(in_features=512, out_features=512, bias=True)\n",
            "        )\n",
            "        (self_attn_layer_norm): LayerNorm((512,), eps=1e-05, elementwise_affine=True)\n",
            "        (dropout_module): FairseqDropout()\n",
            "        (activation_dropout_module): FairseqDropout()\n",
            "        (fc1): Linear(in_features=512, out_features=2048, bias=True)\n",
            "        (fc2): Linear(in_features=2048, out_features=512, bias=True)\n",
            "        (final_layer_norm): LayerNorm((512,), eps=1e-05, elementwise_affine=True)\n",
            "      )\n",
            "      (5): TransformerEncoderLayerBase(\n",
            "        (self_attn): MultiheadAttention(\n",
            "          (dropout_module): FairseqDropout()\n",
            "          (k_proj): Linear(in_features=512, out_features=512, bias=True)\n",
            "          (v_proj): Linear(in_features=512, out_features=512, bias=True)\n",
            "          (q_proj): Linear(in_features=512, out_features=512, bias=True)\n",
            "          (out_proj): Linear(in_features=512, out_features=512, bias=True)\n",
            "        )\n",
            "        (self_attn_layer_norm): LayerNorm((512,), eps=1e-05, elementwise_affine=True)\n",
            "        (dropout_module): FairseqDropout()\n",
            "        (activation_dropout_module): FairseqDropout()\n",
            "        (fc1): Linear(in_features=512, out_features=2048, bias=True)\n",
            "        (fc2): Linear(in_features=2048, out_features=512, bias=True)\n",
            "        (final_layer_norm): LayerNorm((512,), eps=1e-05, elementwise_affine=True)\n",
            "      )\n",
            "    )\n",
            "  )\n",
            "  (decoder): TransformerDecoderBase(\n",
            "    (dropout_module): FairseqDropout()\n",
            "    (embed_tokens): Embedding(81336, 512, padding_idx=1)\n",
            "    (embed_positions): SinusoidalPositionalEmbedding()\n",
            "    (layers): ModuleList(\n",
            "      (0): TransformerDecoderLayerBase(\n",
            "        (dropout_module): FairseqDropout()\n",
            "        (self_attn): MultiheadAttention(\n",
            "          (dropout_module): FairseqDropout()\n",
            "          (k_proj): Linear(in_features=512, out_features=512, bias=True)\n",
            "          (v_proj): Linear(in_features=512, out_features=512, bias=True)\n",
            "          (q_proj): Linear(in_features=512, out_features=512, bias=True)\n",
            "          (out_proj): Linear(in_features=512, out_features=512, bias=True)\n",
            "        )\n",
            "        (activation_dropout_module): FairseqDropout()\n",
            "        (self_attn_layer_norm): LayerNorm((512,), eps=1e-05, elementwise_affine=True)\n",
            "        (encoder_attn): MultiheadAttention(\n",
            "          (dropout_module): FairseqDropout()\n",
            "          (k_proj): Linear(in_features=512, out_features=512, bias=True)\n",
            "          (v_proj): Linear(in_features=512, out_features=512, bias=True)\n",
            "          (q_proj): Linear(in_features=512, out_features=512, bias=True)\n",
            "          (out_proj): Linear(in_features=512, out_features=512, bias=True)\n",
            "        )\n",
            "        (encoder_attn_layer_norm): LayerNorm((512,), eps=1e-05, elementwise_affine=True)\n",
            "        (fc1): Linear(in_features=512, out_features=2048, bias=True)\n",
            "        (fc2): Linear(in_features=2048, out_features=512, bias=True)\n",
            "        (final_layer_norm): LayerNorm((512,), eps=1e-05, elementwise_affine=True)\n",
            "      )\n",
            "      (1): TransformerDecoderLayerBase(\n",
            "        (dropout_module): FairseqDropout()\n",
            "        (self_attn): MultiheadAttention(\n",
            "          (dropout_module): FairseqDropout()\n",
            "          (k_proj): Linear(in_features=512, out_features=512, bias=True)\n",
            "          (v_proj): Linear(in_features=512, out_features=512, bias=True)\n",
            "          (q_proj): Linear(in_features=512, out_features=512, bias=True)\n",
            "          (out_proj): Linear(in_features=512, out_features=512, bias=True)\n",
            "        )\n",
            "        (activation_dropout_module): FairseqDropout()\n",
            "        (self_attn_layer_norm): LayerNorm((512,), eps=1e-05, elementwise_affine=True)\n",
            "        (encoder_attn): MultiheadAttention(\n",
            "          (dropout_module): FairseqDropout()\n",
            "          (k_proj): Linear(in_features=512, out_features=512, bias=True)\n",
            "          (v_proj): Linear(in_features=512, out_features=512, bias=True)\n",
            "          (q_proj): Linear(in_features=512, out_features=512, bias=True)\n",
            "          (out_proj): Linear(in_features=512, out_features=512, bias=True)\n",
            "        )\n",
            "        (encoder_attn_layer_norm): LayerNorm((512,), eps=1e-05, elementwise_affine=True)\n",
            "        (fc1): Linear(in_features=512, out_features=2048, bias=True)\n",
            "        (fc2): Linear(in_features=2048, out_features=512, bias=True)\n",
            "        (final_layer_norm): LayerNorm((512,), eps=1e-05, elementwise_affine=True)\n",
            "      )\n",
            "      (2): TransformerDecoderLayerBase(\n",
            "        (dropout_module): FairseqDropout()\n",
            "        (self_attn): MultiheadAttention(\n",
            "          (dropout_module): FairseqDropout()\n",
            "          (k_proj): Linear(in_features=512, out_features=512, bias=True)\n",
            "          (v_proj): Linear(in_features=512, out_features=512, bias=True)\n",
            "          (q_proj): Linear(in_features=512, out_features=512, bias=True)\n",
            "          (out_proj): Linear(in_features=512, out_features=512, bias=True)\n",
            "        )\n",
            "        (activation_dropout_module): FairseqDropout()\n",
            "        (self_attn_layer_norm): LayerNorm((512,), eps=1e-05, elementwise_affine=True)\n",
            "        (encoder_attn): MultiheadAttention(\n",
            "          (dropout_module): FairseqDropout()\n",
            "          (k_proj): Linear(in_features=512, out_features=512, bias=True)\n",
            "          (v_proj): Linear(in_features=512, out_features=512, bias=True)\n",
            "          (q_proj): Linear(in_features=512, out_features=512, bias=True)\n",
            "          (out_proj): Linear(in_features=512, out_features=512, bias=True)\n",
            "        )\n",
            "        (encoder_attn_layer_norm): LayerNorm((512,), eps=1e-05, elementwise_affine=True)\n",
            "        (fc1): Linear(in_features=512, out_features=2048, bias=True)\n",
            "        (fc2): Linear(in_features=2048, out_features=512, bias=True)\n",
            "        (final_layer_norm): LayerNorm((512,), eps=1e-05, elementwise_affine=True)\n",
            "      )\n",
            "      (3): TransformerDecoderLayerBase(\n",
            "        (dropout_module): FairseqDropout()\n",
            "        (self_attn): MultiheadAttention(\n",
            "          (dropout_module): FairseqDropout()\n",
            "          (k_proj): Linear(in_features=512, out_features=512, bias=True)\n",
            "          (v_proj): Linear(in_features=512, out_features=512, bias=True)\n",
            "          (q_proj): Linear(in_features=512, out_features=512, bias=True)\n",
            "          (out_proj): Linear(in_features=512, out_features=512, bias=True)\n",
            "        )\n",
            "        (activation_dropout_module): FairseqDropout()\n",
            "        (self_attn_layer_norm): LayerNorm((512,), eps=1e-05, elementwise_affine=True)\n",
            "        (encoder_attn): MultiheadAttention(\n",
            "          (dropout_module): FairseqDropout()\n",
            "          (k_proj): Linear(in_features=512, out_features=512, bias=True)\n",
            "          (v_proj): Linear(in_features=512, out_features=512, bias=True)\n",
            "          (q_proj): Linear(in_features=512, out_features=512, bias=True)\n",
            "          (out_proj): Linear(in_features=512, out_features=512, bias=True)\n",
            "        )\n",
            "        (encoder_attn_layer_norm): LayerNorm((512,), eps=1e-05, elementwise_affine=True)\n",
            "        (fc1): Linear(in_features=512, out_features=2048, bias=True)\n",
            "        (fc2): Linear(in_features=2048, out_features=512, bias=True)\n",
            "        (final_layer_norm): LayerNorm((512,), eps=1e-05, elementwise_affine=True)\n",
            "      )\n",
            "      (4): TransformerDecoderLayerBase(\n",
            "        (dropout_module): FairseqDropout()\n",
            "        (self_attn): MultiheadAttention(\n",
            "          (dropout_module): FairseqDropout()\n",
            "          (k_proj): Linear(in_features=512, out_features=512, bias=True)\n",
            "          (v_proj): Linear(in_features=512, out_features=512, bias=True)\n",
            "          (q_proj): Linear(in_features=512, out_features=512, bias=True)\n",
            "          (out_proj): Linear(in_features=512, out_features=512, bias=True)\n",
            "        )\n",
            "        (activation_dropout_module): FairseqDropout()\n",
            "        (self_attn_layer_norm): LayerNorm((512,), eps=1e-05, elementwise_affine=True)\n",
            "        (encoder_attn): MultiheadAttention(\n",
            "          (dropout_module): FairseqDropout()\n",
            "          (k_proj): Linear(in_features=512, out_features=512, bias=True)\n",
            "          (v_proj): Linear(in_features=512, out_features=512, bias=True)\n",
            "          (q_proj): Linear(in_features=512, out_features=512, bias=True)\n",
            "          (out_proj): Linear(in_features=512, out_features=512, bias=True)\n",
            "        )\n",
            "        (encoder_attn_layer_norm): LayerNorm((512,), eps=1e-05, elementwise_affine=True)\n",
            "        (fc1): Linear(in_features=512, out_features=2048, bias=True)\n",
            "        (fc2): Linear(in_features=2048, out_features=512, bias=True)\n",
            "        (final_layer_norm): LayerNorm((512,), eps=1e-05, elementwise_affine=True)\n",
            "      )\n",
            "      (5): TransformerDecoderLayerBase(\n",
            "        (dropout_module): FairseqDropout()\n",
            "        (self_attn): MultiheadAttention(\n",
            "          (dropout_module): FairseqDropout()\n",
            "          (k_proj): Linear(in_features=512, out_features=512, bias=True)\n",
            "          (v_proj): Linear(in_features=512, out_features=512, bias=True)\n",
            "          (q_proj): Linear(in_features=512, out_features=512, bias=True)\n",
            "          (out_proj): Linear(in_features=512, out_features=512, bias=True)\n",
            "        )\n",
            "        (activation_dropout_module): FairseqDropout()\n",
            "        (self_attn_layer_norm): LayerNorm((512,), eps=1e-05, elementwise_affine=True)\n",
            "        (encoder_attn): MultiheadAttention(\n",
            "          (dropout_module): FairseqDropout()\n",
            "          (k_proj): Linear(in_features=512, out_features=512, bias=True)\n",
            "          (v_proj): Linear(in_features=512, out_features=512, bias=True)\n",
            "          (q_proj): Linear(in_features=512, out_features=512, bias=True)\n",
            "          (out_proj): Linear(in_features=512, out_features=512, bias=True)\n",
            "        )\n",
            "        (encoder_attn_layer_norm): LayerNorm((512,), eps=1e-05, elementwise_affine=True)\n",
            "        (fc1): Linear(in_features=512, out_features=2048, bias=True)\n",
            "        (fc2): Linear(in_features=2048, out_features=512, bias=True)\n",
            "        (final_layer_norm): LayerNorm((512,), eps=1e-05, elementwise_affine=True)\n",
            "      )\n",
            "      (6): TransformerDecoderLayerBase(\n",
            "        (dropout_module): FairseqDropout()\n",
            "        (self_attn): MultiheadAttention(\n",
            "          (dropout_module): FairseqDropout()\n",
            "          (k_proj): Linear(in_features=512, out_features=512, bias=True)\n",
            "          (v_proj): Linear(in_features=512, out_features=512, bias=True)\n",
            "          (q_proj): Linear(in_features=512, out_features=512, bias=True)\n",
            "          (out_proj): Linear(in_features=512, out_features=512, bias=True)\n",
            "        )\n",
            "        (activation_dropout_module): FairseqDropout()\n",
            "        (self_attn_layer_norm): LayerNorm((512,), eps=1e-05, elementwise_affine=True)\n",
            "        (encoder_attn): MultiheadAttention(\n",
            "          (dropout_module): FairseqDropout()\n",
            "          (k_proj): Linear(in_features=512, out_features=512, bias=True)\n",
            "          (v_proj): Linear(in_features=512, out_features=512, bias=True)\n",
            "          (q_proj): Linear(in_features=512, out_features=512, bias=True)\n",
            "          (out_proj): Linear(in_features=512, out_features=512, bias=True)\n",
            "        )\n",
            "        (encoder_attn_layer_norm): LayerNorm((512,), eps=1e-05, elementwise_affine=True)\n",
            "        (fc1): Linear(in_features=512, out_features=2048, bias=True)\n",
            "        (fc2): Linear(in_features=2048, out_features=512, bias=True)\n",
            "        (final_layer_norm): LayerNorm((512,), eps=1e-05, elementwise_affine=True)\n",
            "      )\n",
            "      (7): TransformerDecoderLayerBase(\n",
            "        (dropout_module): FairseqDropout()\n",
            "        (self_attn): MultiheadAttention(\n",
            "          (dropout_module): FairseqDropout()\n",
            "          (k_proj): Linear(in_features=512, out_features=512, bias=True)\n",
            "          (v_proj): Linear(in_features=512, out_features=512, bias=True)\n",
            "          (q_proj): Linear(in_features=512, out_features=512, bias=True)\n",
            "          (out_proj): Linear(in_features=512, out_features=512, bias=True)\n",
            "        )\n",
            "        (activation_dropout_module): FairseqDropout()\n",
            "        (self_attn_layer_norm): LayerNorm((512,), eps=1e-05, elementwise_affine=True)\n",
            "        (encoder_attn): MultiheadAttention(\n",
            "          (dropout_module): FairseqDropout()\n",
            "          (k_proj): Linear(in_features=512, out_features=512, bias=True)\n",
            "          (v_proj): Linear(in_features=512, out_features=512, bias=True)\n",
            "          (q_proj): Linear(in_features=512, out_features=512, bias=True)\n",
            "          (out_proj): Linear(in_features=512, out_features=512, bias=True)\n",
            "        )\n",
            "        (encoder_attn_layer_norm): LayerNorm((512,), eps=1e-05, elementwise_affine=True)\n",
            "        (fc1): Linear(in_features=512, out_features=2048, bias=True)\n",
            "        (fc2): Linear(in_features=2048, out_features=512, bias=True)\n",
            "        (final_layer_norm): LayerNorm((512,), eps=1e-05, elementwise_affine=True)\n",
            "      )\n",
            "    )\n",
            "    (output_projection): Linear(in_features=512, out_features=81336, bias=False)\n",
            "  )\n",
            ")\n",
            "2022-03-10 22:32:34 | INFO | fairseq_cli.train | task: TranslationTask\n",
            "2022-03-10 22:32:34 | INFO | fairseq_cli.train | model: TransformerModel\n",
            "2022-03-10 22:32:34 | INFO | fairseq_cli.train | criterion: LabelSmoothedCrossEntropyCriterion\n",
            "2022-03-10 22:32:34 | INFO | fairseq_cli.train | num. shared model params: 129,526,784 (num. trained: 129,526,784)\n",
            "2022-03-10 22:32:34 | INFO | fairseq_cli.train | num. expert model params: 0 (num. trained: 0)\n",
            "2022-03-10 22:32:34 | INFO | fairseq.data.data_utils | loaded 3,018 examples from: ./data_enth_bin/valid.src-trg.src\n",
            "2022-03-10 22:32:34 | INFO | fairseq.data.data_utils | loaded 3,018 examples from: ./data_enth_bin/valid.src-trg.trg\n",
            "2022-03-10 22:32:34 | INFO | fairseq.tasks.translation | ./data_enth_bin valid src-trg 3018 examples\n",
            "2022-03-10 22:32:37 | INFO | fairseq.trainer | detected shared parameter: decoder.embed_tokens.weight <- decoder.output_projection.weight\n",
            "2022-03-10 22:32:37 | INFO | fairseq.utils | ***********************CUDA enviroments for all 1 workers***********************\n",
            "2022-03-10 22:32:37 | INFO | fairseq.utils | rank   0: capabilities =  7.5  ; total memory = 14.756 GB ; name = Tesla T4                                \n",
            "2022-03-10 22:32:37 | INFO | fairseq.utils | ***********************CUDA enviroments for all 1 workers***********************\n",
            "2022-03-10 22:32:37 | INFO | fairseq_cli.train | training on 1 devices (GPUs/TPUs)\n",
            "2022-03-10 22:32:37 | INFO | fairseq_cli.train | max tokens per device = 4096 and max sentences per device = 4096\n",
            "2022-03-10 22:32:37 | INFO | fairseq.trainer | Preparing to load checkpoint checkpoints/transformer/checkpoint_last.pt\n",
            "2022-03-10 22:32:37 | INFO | fairseq.trainer | No existing checkpoint found checkpoints/transformer/checkpoint_last.pt\n",
            "2022-03-10 22:32:37 | INFO | fairseq.trainer | loading train data for epoch 1\n",
            "2022-03-10 22:32:37 | INFO | fairseq.data.data_utils | loaded 236,713 examples from: ./data_enth_bin/train.src-trg.src\n",
            "2022-03-10 22:32:38 | INFO | fairseq.data.data_utils | loaded 236,713 examples from: ./data_enth_bin/train.src-trg.trg\n",
            "2022-03-10 22:32:38 | INFO | fairseq.tasks.translation | ./data_enth_bin train src-trg 236713 examples\n",
            "2022-03-10 22:32:38 | INFO | fairseq.data.iterators | grouped total_num_itrs = 502\n",
            "epoch 001:   0%|                                        | 0/502 [00:00<?, ?it/s]2022-03-10 22:32:38 | INFO | fairseq.trainer | begin training epoch 1\n",
            "2022-03-10 22:32:38 | INFO | fairseq_cli.train | Start iterating over samples\n",
            "2022-03-10 22:32:39 | INFO | fairseq.trainer | NOTE: gradient overflow detected, ignoring gradient, setting loss scale to: 64.0\n",
            "epoch 001:   0%|                                | 1/502 [00:01<13:05,  1.57s/it]2022-03-10 22:32:41 | INFO | fairseq.trainer | NOTE: gradient overflow detected, ignoring gradient, setting loss scale to: 32.0\n",
            "epoch 001:   1%|▎                               | 4/502 [00:05<10:25,  1.26s/it]2022-03-10 22:32:44 | INFO | fairseq.trainer | NOTE: gradient overflow detected, ignoring gradient, setting loss scale to: 16.0\n",
            "epoch 001:   3%|▉                              | 16/502 [00:18<08:57,  1.11s/it]^C\n",
            "Traceback (most recent call last):                                              \n",
            "  File \"/home/superai2-4031/fairseq/fairseq_cli/train.py\", line 542, in <module>\n",
            "    cli_main()\n",
            "  File \"/home/superai2-4031/fairseq/fairseq_cli/train.py\", line 535, in cli_main\n",
            "    distributed_utils.call_main(cfg, main)\n",
            "  File \"/home/superai2-4031/fairseq/fairseq/distributed/utils.py\", line 369, in call_main\n",
            "    main(cfg, **kwargs)\n",
            "  File \"/home/superai2-4031/fairseq/fairseq_cli/train.py\", line 190, in main\n",
            "    valid_losses, should_stop = train(cfg, trainer, task, epoch_itr)\n",
            "  File \"/home/superai2-4031/anaconda3/lib/python3.9/contextlib.py\", line 79, in inner\n",
            "    return func(*args, **kwds)\n",
            "  File \"/home/superai2-4031/fairseq/fairseq_cli/train.py\", line 305, in train\n",
            "    log_output = trainer.train_step(samples)\n",
            "  File \"/home/superai2-4031/anaconda3/lib/python3.9/contextlib.py\", line 79, in inner\n",
            "    return func(*args, **kwds)\n",
            "  File \"/home/superai2-4031/fairseq/fairseq/trainer.py\", line 823, in train_step\n",
            "    loss, sample_size_i, logging_output = self.task.train_step(\n",
            "  File \"/home/superai2-4031/fairseq/fairseq/tasks/fairseq_task.py\", line 512, in train_step\n",
            "    loss, sample_size, logging_output = criterion(model, sample)\n",
            "  File \"/home/superai2-4031/anaconda3/lib/python3.9/site-packages/torch/nn/modules/module.py\", line 889, in _call_impl\n",
            "    result = self.forward(*input, **kwargs)\n",
            "  File \"/home/superai2-4031/fairseq/fairseq/criterions/label_smoothed_cross_entropy.py\", line 79, in forward\n",
            "    net_output = model(**sample[\"net_input\"])\n",
            "  File \"/home/superai2-4031/anaconda3/lib/python3.9/site-packages/torch/nn/modules/module.py\", line 889, in _call_impl\n",
            "    result = self.forward(*input, **kwargs)\n",
            "  File \"/home/superai2-4031/fairseq/fairseq/models/transformer/transformer_base.py\", line 151, in forward\n",
            "    decoder_out = self.decoder(\n",
            "  File \"/home/superai2-4031/anaconda3/lib/python3.9/site-packages/torch/nn/modules/module.py\", line 889, in _call_impl\n",
            "    result = self.forward(*input, **kwargs)\n",
            "  File \"/home/superai2-4031/fairseq/fairseq/models/transformer/transformer_decoder.py\", line 217, in forward\n",
            "    x, extra = self.extract_features(\n",
            "  File \"/home/superai2-4031/fairseq/fairseq/models/transformer/transformer_decoder.py\", line 239, in extract_features\n",
            "    return self.extract_features_scriptable(\n",
            "  File \"/home/superai2-4031/fairseq/fairseq/models/transformer/transformer_decoder.py\", line 341, in extract_features_scriptable\n",
            "    x, layer_attn, _ = layer(\n",
            "  File \"/home/superai2-4031/anaconda3/lib/python3.9/site-packages/torch/nn/modules/module.py\", line 889, in _call_impl\n",
            "    result = self.forward(*input, **kwargs)\n",
            "  File \"/home/superai2-4031/fairseq/fairseq/modules/transformer_layer.py\", line 449, in forward\n",
            "    x, attn = self.self_attn(\n",
            "  File \"/home/superai2-4031/anaconda3/lib/python3.9/site-packages/torch/nn/modules/module.py\", line 889, in _call_impl\n",
            "    result = self.forward(*input, **kwargs)\n",
            "  File \"/home/superai2-4031/fairseq/fairseq/modules/multihead_attention.py\", line 308, in forward\n",
            "    return F.multi_head_attention_forward(\n",
            "  File \"/home/superai2-4031/anaconda3/lib/python3.9/site-packages/torch/nn/functional.py\", line 4790, in multi_head_attention_forward\n",
            "    attn_output_weights = torch.bmm(q, k.transpose(1, 2))\n",
            "KeyboardInterrupt\n"
          ]
        }
      ],
      "source": [
        "%cd /data/bpe\n",
        "!python fairseq/fairseq_cli/train.py ./data_enth_bin \\\n",
        "--arch transformer --max-epoch 150 --adam-betas '(0.9, 0.98)' --decoder-layers 6 --decoder-layers 8 --encoder-embed-dim 512\\\n",
        "--share-decoder-input-output-embed --batch-size 4096\\\n",
        "--optimizer adam --clip-norm 0.0 --scoring sacrebleu \\\n",
        "--lr 0.001 --lr-scheduler inverse_sqrt --warmup-updates 4000 --warmup-init-lr 1e-07 \\\n",
        "--dropout 0.1 --weight-decay 0.0 \\\n",
        "--criterion label_smoothed_cross_entropy --label-smoothing 0.1 \\\n",
        "--save-dir checkpoints/transformer \\\n",
        "--max-tokens 4096 \\\n",
        "--update-freq 5 --device-id 2  \\\n",
        "--fp16 \\\n",
        "--keep-last-epochs 15 --distributed-world-size 1 \n",
        "    #--patience 15"
      ]
    },
    {
      "cell_type": "code",
      "execution_count": 25,
      "metadata": {
        "colab": {
          "base_uri": "https://localhost:8080/"
        },
        "id": "ydxSpRd8EqlA",
        "outputId": "9e51fdfd-d30d-4531-8b29-f630f3c48bf8"
      },
      "outputs": [
        {
          "name": "stdout",
          "output_type": "stream",
          "text": [
            "/home/superai2-4031/data/bpe\n",
            "2022-03-10 21:24:50 | INFO | fairseq_cli.generate | {'_name': None, 'common': {'_name': None, 'no_progress_bar': False, 'log_interval': 100, 'log_format': None, 'log_file': None, 'tensorboard_logdir': None, 'wandb_project': None, 'azureml_logging': False, 'seed': 1, 'cpu': False, 'tpu': False, 'bf16': False, 'memory_efficient_bf16': False, 'fp16': False, 'memory_efficient_fp16': False, 'fp16_no_flatten_grads': False, 'fp16_init_scale': 128, 'fp16_scale_window': None, 'fp16_scale_tolerance': 0.0, 'on_cpu_convert_precision': False, 'min_loss_scale': 0.0001, 'threshold_loss_scale': None, 'amp': False, 'amp_batch_retries': 2, 'amp_init_scale': 128, 'amp_scale_window': None, 'user_dir': None, 'empty_cache_freq': 0, 'all_gather_list_size': 16384, 'model_parallel_size': 1, 'quantization_config_path': None, 'profile': False, 'reset_logging': False, 'suppress_crashes': False, 'use_plasma_view': False, 'plasma_path': '/tmp/plasma'}, 'common_eval': {'_name': None, 'path': 'checkpoints/transformer/checkpoint_best.pt', 'post_process': 'subword_nmt', 'quiet': False, 'model_overrides': '{}', 'results_path': None}, 'distributed_training': {'_name': None, 'distributed_world_size': 1, 'distributed_num_procs': 4, 'distributed_rank': 0, 'distributed_backend': 'nccl', 'distributed_init_method': None, 'distributed_port': -1, 'device_id': 0, 'distributed_no_spawn': False, 'ddp_backend': 'pytorch_ddp', 'ddp_comm_hook': 'none', 'bucket_cap_mb': 25, 'fix_batches_to_gpus': False, 'find_unused_parameters': False, 'gradient_as_bucket_view': False, 'fast_stat_sync': False, 'heartbeat_timeout': -1, 'broadcast_buffers': False, 'slowmo_momentum': None, 'slowmo_base_algorithm': 'localsgd', 'localsgd_frequency': 3, 'nprocs_per_node': 4, 'pipeline_model_parallel': False, 'pipeline_balance': None, 'pipeline_devices': None, 'pipeline_chunks': 0, 'pipeline_encoder_balance': None, 'pipeline_encoder_devices': None, 'pipeline_decoder_balance': None, 'pipeline_decoder_devices': None, 'pipeline_checkpoint': 'never', 'zero_sharding': 'none', 'fp16': False, 'memory_efficient_fp16': False, 'tpu': False, 'no_reshard_after_forward': False, 'fp32_reduce_scatter': False, 'cpu_offload': False, 'use_sharded_state': False, 'not_fsdp_flatten_parameters': False}, 'dataset': {'_name': None, 'num_workers': 1, 'skip_invalid_size_inputs_valid_test': False, 'max_tokens': None, 'batch_size': 128, 'required_batch_size_multiple': 8, 'required_seq_len_multiple': 1, 'dataset_impl': None, 'data_buffer_size': 10, 'train_subset': 'train', 'valid_subset': 'valid', 'combine_valid_subsets': None, 'ignore_unused_valid_subsets': False, 'validate_interval': 1, 'validate_interval_updates': 0, 'validate_after_updates': 0, 'fixed_validation_seed': None, 'disable_validation': False, 'max_tokens_valid': None, 'batch_size_valid': 128, 'max_valid_steps': None, 'curriculum': 0, 'gen_subset': 'test', 'num_shards': 1, 'shard_id': 0, 'grouped_shuffling': False, 'update_epoch_batch_itr': False, 'update_ordered_indices_seed': False}, 'optimization': {'_name': None, 'max_epoch': 0, 'max_update': 0, 'stop_time_hours': 0.0, 'clip_norm': 0.0, 'sentence_avg': False, 'update_freq': [1], 'lr': [0.25], 'stop_min_lr': -1.0, 'use_bmuf': False, 'skip_remainder_batch': False}, 'checkpoint': {'_name': None, 'save_dir': 'checkpoints', 'restore_file': 'checkpoint_last.pt', 'continue_once': None, 'finetune_from_model': None, 'reset_dataloader': False, 'reset_lr_scheduler': False, 'reset_meters': False, 'reset_optimizer': False, 'optimizer_overrides': '{}', 'save_interval': 1, 'save_interval_updates': 0, 'keep_interval_updates': -1, 'keep_interval_updates_pattern': -1, 'keep_last_epochs': -1, 'keep_best_checkpoints': -1, 'no_save': False, 'no_epoch_checkpoints': False, 'no_last_checkpoints': False, 'no_save_optimizer_state': False, 'best_checkpoint_metric': 'loss', 'maximize_best_checkpoint_metric': False, 'patience': -1, 'checkpoint_suffix': '', 'checkpoint_shard_count': 1, 'load_checkpoint_on_all_dp_ranks': False, 'write_checkpoints_asynchronously': False, 'model_parallel_size': 1}, 'bmuf': {'_name': None, 'block_lr': 1.0, 'block_momentum': 0.875, 'global_sync_iter': 50, 'warmup_iterations': 500, 'use_nbm': False, 'average_sync': False, 'distributed_world_size': 1}, 'generation': {'_name': None, 'beam': 4, 'nbest': 1, 'max_len_a': 0.0, 'max_len_b': 200, 'min_len': 1, 'match_source_len': False, 'unnormalized': False, 'no_early_stop': False, 'no_beamable_mm': False, 'lenpen': 1.0, 'unkpen': 0.0, 'replace_unk': None, 'sacrebleu': False, 'score_reference': False, 'prefix_size': 0, 'no_repeat_ngram_size': 0, 'sampling': False, 'sampling_topk': -1, 'sampling_topp': -1.0, 'constraints': None, 'temperature': 1.0, 'diverse_beam_groups': -1, 'diverse_beam_strength': 0.5, 'diversity_rate': -1.0, 'print_alignment': None, 'print_step': False, 'lm_path': None, 'lm_weight': 0.0, 'iter_decode_eos_penalty': 0.0, 'iter_decode_max_iter': 10, 'iter_decode_force_max_iter': False, 'iter_decode_with_beam': 1, 'iter_decode_with_external_reranker': False, 'retain_iter_history': False, 'retain_dropout': False, 'retain_dropout_modules': None, 'decoding_format': None, 'no_seed_provided': False}, 'eval_lm': {'_name': None, 'output_word_probs': False, 'output_word_stats': False, 'context_window': 0, 'softmax_batch': 9223372036854775807}, 'interactive': {'_name': None, 'buffer_size': 0, 'input': '-'}, 'model': {'_name': 'wav2vec2', 'extractor_mode': 'default', 'encoder_layers': 12, 'encoder_embed_dim': 768, 'encoder_ffn_embed_dim': 3072, 'encoder_attention_heads': 12, 'activation_fn': 'gelu', 'layer_type': 'transformer', 'dropout': 0.1, 'attention_dropout': 0.1, 'activation_dropout': 0.0, 'encoder_layerdrop': 0.0, 'dropout_input': 0.0, 'dropout_features': 0.0, 'final_dim': 0, 'layer_norm_first': False, 'conv_feature_layers': '[(512, 10, 5)] + [(512, 3, 2)] * 4 + [(512,2,2)] + [(512,2,2)]', 'conv_bias': False, 'logit_temp': 0.1, 'quantize_targets': False, 'quantize_input': False, 'same_quantizer': False, 'target_glu': False, 'feature_grad_mult': 1.0, 'quantizer_depth': 1, 'quantizer_factor': 3, 'latent_vars': 320, 'latent_groups': 2, 'latent_dim': 0, 'mask_length': 10, 'mask_prob': 0.65, 'mask_selection': 'static', 'mask_other': 0.0, 'no_mask_overlap': False, 'mask_min_space': 1, 'require_same_masks': True, 'mask_dropout': 0.0, 'mask_channel_length': 10, 'mask_channel_prob': 0.0, 'mask_channel_before': False, 'mask_channel_selection': 'static', 'mask_channel_other': 0.0, 'no_mask_channel_overlap': False, 'mask_channel_min_space': 1, 'num_negatives': 100, 'negatives_from_everywhere': False, 'cross_sample_negatives': 0, 'codebook_negatives': 0, 'conv_pos': 128, 'conv_pos_groups': 16, 'pos_conv_depth': 1, 'latent_temp': [2.0, 0.5, 0.999995], 'max_positions': 100000, 'checkpoint_activations': False, 'required_seq_len_multiple': 1, 'crop_seq_to_multiple': 1, 'depthwise_conv_kernel_size': 31, 'attn_type': '', 'pos_enc_type': 'abs', 'fp16': False}, 'task': {'_name': 'translation', 'data': './data_enth_bin', 'source_lang': None, 'target_lang': None, 'load_alignments': False, 'left_pad_source': True, 'left_pad_target': False, 'max_source_positions': 1024, 'max_target_positions': 1024, 'upsample_primary': -1, 'truncate_source': False, 'num_batch_buckets': 0, 'train_subset': 'train', 'dataset_impl': None, 'required_seq_len_multiple': 1, 'eval_bleu': False, 'eval_bleu_args': '{}', 'eval_bleu_detok': 'space', 'eval_bleu_detok_args': '{}', 'eval_tokenized_bleu': False, 'eval_bleu_remove_bpe': None, 'eval_bleu_print_samples': False}, 'criterion': {'_name': 'cross_entropy', 'sentence_avg': True}, 'optimizer': None, 'lr_scheduler': {'_name': 'fixed', 'force_anneal': None, 'lr_shrink': 0.1, 'warmup_updates': 0, 'lr': [0.25]}, 'scoring': {'_name': 'bleu', 'pad': 1, 'eos': 2, 'unk': 3}, 'bpe': None, 'tokenizer': None, 'ema': {'_name': None, 'store_ema': False, 'ema_decay': 0.9999, 'ema_start_update': 0, 'ema_seed_model': None, 'ema_update_freq': 1, 'ema_fp32': False}, 'simul_type': None}\n",
            "2022-03-10 21:24:51 | INFO | fairseq.tasks.translation | [src] dictionary: 68064 types\n",
            "2022-03-10 21:24:51 | INFO | fairseq.tasks.translation | [trg] dictionary: 78496 types\n",
            "2022-03-10 21:24:51 | INFO | fairseq_cli.generate | loading model(s) from checkpoints/transformer/checkpoint_best.pt\n",
            "2022-03-10 21:24:54 | INFO | fairseq.data.data_utils | loaded 1,520 examples from: ./data_enth_bin/test.src-trg.src\n",
            "2022-03-10 21:24:54 | INFO | fairseq.data.data_utils | loaded 1,520 examples from: ./data_enth_bin/test.src-trg.trg\n",
            "2022-03-10 21:24:54 | INFO | fairseq.tasks.translation | ./data_enth_bin test src-trg 1520 examples\n",
            "2022-03-10 21:25:21 | INFO | fairseq_cli.generate | NOTE: hypothesis and token scores are output in base 2\n",
            "2022-03-10 21:25:21 | INFO | fairseq_cli.generate | Translated 1,520 sentences (24,299 tokens) in 17.0s (89.66 sentences/s, 1433.40 tokens/s)\n"
          ]
        }
      ],
      "source": [
        "%cd /data/bpe/\n",
        "!fairseq-generate ./data_enth_bin \\\n",
        "--path checkpoints/transformer/checkpoint_best.pt \\\n",
        "--batch-size 128 --beam 4 --remove-bpe \\\n",
        "| grep -P \"[D|T]-[0-9]+\" > log.txt\n",
        "# | grep -P \"D-[0-9]+\" > log.txt"
      ]
    },
    {
      "cell_type": "code",
      "execution_count": 26,
      "metadata": {
        "colab": {
          "base_uri": "https://localhost:8080/"
        },
        "id": "Pc3INjoTBPMQ",
        "outputId": "62215510-fd88-4ae2-cf18-d5202b889520"
      },
      "outputs": [
        {
          "data": {
            "text/plain": [
              "92869"
            ]
          },
          "execution_count": 26,
          "metadata": {},
          "output_type": "execute_result"
        }
      ],
      "source": [
        "REF = []\n",
        "translated = []\n",
        "for line in open(\"log.txt\",'r',encoding='utf8').readlines():\n",
        "  splited_line = line.split('\\t')\n",
        "  if 'T' in splited_line[0]:\n",
        "    REF.append(splited_line[1].strip())\n",
        "  else:\n",
        "    translated.append(splited_line[2].strip())\n",
        "  # print(splited_line)\n",
        "  # break\n",
        "open('REF.txt','w',encoding='utf8').write('\\n'.join(REF))\n",
        "open('translated.txt','w',encoding='utf8').write('\\n'.join(translated))"
      ]
    },
    {
      "cell_type": "code",
      "execution_count": 27,
      "metadata": {
        "colab": {
          "base_uri": "https://localhost:8080/"
        },
        "id": "LwDFk0TiyZzv",
        "outputId": "fb4ba22e-2527-46fd-ef14-54bbf2bb7826"
      },
      "outputs": [
        {
          "name": "stdout",
          "output_type": "stream",
          "text": [
            "/home/superai2-4031/data/bpe\n"
          ]
        }
      ],
      "source": [
        "!pwd\n"
      ]
    },
    {
      "cell_type": "code",
      "execution_count": 28,
      "metadata": {
        "colab": {
          "base_uri": "https://localhost:8080/"
        },
        "id": "QqAvPp4slP-r",
        "outputId": "3e1e1d87-5e4a-4dc1-bdb1-07765e7d751b"
      },
      "outputs": [
        {
          "name": "stdout",
          "output_type": "stream",
          "text": [
            "{\n",
            " \"name\": \"BLEU\",\n",
            " \"score\": 0.1,\n",
            " \"signature\": \"nrefs:1|case:mixed|eff:no|tok:13a|smooth:exp|version:2.0.0\",\n",
            " \"verbose_score\": \"3.3/0.2/0.0/0.0 (BP = 1.000 ratio = 1.326 hyp_len = 20826 ref_len = 15701)\",\n",
            " \"nrefs\": \"1\",\n",
            " \"case\": \"mixed\",\n",
            " \"eff\": \"no\",\n",
            " \"tok\": \"13a\",\n",
            " \"smooth\": \"exp\",\n",
            " \"version\": \"2.0.0\"\n",
            "}\n",
            "\u001b[0m"
          ]
        }
      ],
      "source": [
        "!cat translated.txt | sacrebleu REF.txt"
      ]
    },
    {
      "cell_type": "markdown",
      "metadata": {},
      "source": [
        "Testing"
      ]
    },
    {
      "cell_type": "code",
      "execution_count": null,
      "metadata": {},
      "outputs": [],
      "source": [
        "from string import punctuation\n",
        "#path = \"drive/MyDrive/Fairseq_Tutorial/data/\"\n",
        "path = \"/home/superai2-4031/data/\"\n",
        "\n",
        "en_test = open('/home/superai2-4031/Official_Dataset/Aun/validate_en.txt').read().translate(str.maketrans(\"\",\"\",punctuation.replace(\"'\",\"\"))).split(\"\\n\")\n",
        "th_test = open('/home/superai2-4031/Official_Dataset/Aun/validate_th_deep.txt').read().translate(str.maketrans(\"\",\"\",punctuation.replace(\"'\",\"\"))).split(\"\\n\")"
      ]
    },
    {
      "cell_type": "code",
      "execution_count": null,
      "metadata": {},
      "outputs": [],
      "source": [
        "!mkdir /home/superai2-4031/data/bpe/aun_test"
      ]
    },
    {
      "cell_type": "code",
      "execution_count": null,
      "metadata": {},
      "outputs": [],
      "source": [
        "!subword-nmt apply-bpe -c /home/superai2-4031/data/bpe/trg.bpe \\\n",
        "< /home/superai2-4031/data/test_th_100k > /home/superai2-4031/data/bpe/test.bpe.trg"
      ]
    },
    {
      "cell_type": "code",
      "execution_count": null,
      "metadata": {},
      "outputs": [],
      "source": [
        "%cd /home/superai2-4031/data/bpe/aun_test"
      ]
    },
    {
      "cell_type": "code",
      "execution_count": null,
      "metadata": {},
      "outputs": [],
      "source": [
        "\n",
        "!subword-nmt apply-bpe -c /home/superai2-4031/data/bpe/src.bpe \\\n",
        "< /home/superai2-4031/Official_Dataset/Aun/validate_en.txt > /home/superai2-4031/data/bpe/aun_test/test.bpe.src\n",
        "\n",
        "!subword-nmt apply-bpe -c /home/superai2-4031/data/bpe/trg.bpe \\\n",
        "< /home/superai2-4031/Official_Dataset/Aun/validate_th_deep.txt > /home/superai2-4031/data/bpe/aun_test/test.bpe.trg\n",
        "\n"
      ]
    },
    {
      "cell_type": "code",
      "execution_count": 1,
      "metadata": {},
      "outputs": [
        {
          "name": "stdout",
          "output_type": "stream",
          "text": [
            "/home/superai2-4031/data/bpe\n"
          ]
        }
      ],
      "source": [
        "%cd /home/superai2-4031/data/bpe/"
      ]
    },
    {
      "cell_type": "code",
      "execution_count": 3,
      "metadata": {},
      "outputs": [
        {
          "name": "stdout",
          "output_type": "stream",
          "text": [
            "2022-03-10 19:46:56 | INFO | fairseq_cli.preprocess | Namespace(no_progress_bar=False, log_interval=100, log_format=None, log_file=None, tensorboard_logdir=None, wandb_project=None, azureml_logging=False, seed=1, cpu=False, tpu=False, bf16=False, memory_efficient_bf16=False, fp16=False, memory_efficient_fp16=False, fp16_no_flatten_grads=False, fp16_init_scale=128, fp16_scale_window=None, fp16_scale_tolerance=0.0, on_cpu_convert_precision=False, min_loss_scale=0.0001, threshold_loss_scale=None, amp=False, amp_batch_retries=2, amp_init_scale=128, amp_scale_window=None, user_dir=None, empty_cache_freq=0, all_gather_list_size=16384, model_parallel_size=1, quantization_config_path=None, profile=False, reset_logging=False, suppress_crashes=False, use_plasma_view=False, plasma_path='/tmp/plasma', criterion='cross_entropy', tokenizer=None, bpe=None, optimizer=None, lr_scheduler='fixed', simul_type=None, scoring='bleu', task='translation', source_lang='src', target_lang='trg', trainpref='./train.bpe', validpref=None, testpref='./aun_test/test.bpe', align_suffix=None, destdir='./aun_test/data_enth_bin_test/', thresholdtgt=0, thresholdsrc=0, tgtdict=None, srcdict=None, nwordstgt=-1, nwordssrc=-1, alignfile=None, dataset_impl='mmap', joined_dictionary=False, only_source=False, padding_factor=8, workers=32, dict_only=False)\n",
            "2022-03-10 19:47:00 | INFO | fairseq_cli.preprocess | [src] Dictionary: 68064 types\n",
            "2022-03-10 19:47:04 | INFO | fairseq_cli.preprocess | [src] ./train.bpe.src: 207000 sents, 6042409 tokens, 0.0% replaced (by <unk>)\n",
            "2022-03-10 19:47:04 | INFO | fairseq_cli.preprocess | [src] Dictionary: 68064 types\n",
            "Traceback (most recent call last):\n",
            "  File \"/home/superai2-4031/fairseq/fairseq_cli/preprocess.py\", line 393, in <module>\n",
            "    cli_main()\n",
            "  File \"/home/superai2-4031/fairseq/fairseq_cli/preprocess.py\", line 389, in cli_main\n",
            "    main(args)\n",
            "  File \"/home/superai2-4031/fairseq/fairseq_cli/preprocess.py\", line 372, in main\n",
            "    _make_all(args.source_lang, src_dict, args)\n",
            "  File \"/home/superai2-4031/fairseq/fairseq_cli/preprocess.py\", line 197, in _make_all\n",
            "    _make_dataset(\n",
            "  File \"/home/superai2-4031/fairseq/fairseq_cli/preprocess.py\", line 178, in _make_dataset\n",
            "    _make_binary_dataset(\n",
            "  File \"/home/superai2-4031/fairseq/fairseq_cli/preprocess.py\", line 119, in _make_binary_dataset\n",
            "    final_summary = FileBinarizer.multiprocess_dataset(\n",
            "  File \"/home/superai2-4031/fairseq/fairseq/binarizer.py\", line 100, in multiprocess_dataset\n",
            "    offsets = find_offsets(input_file, num_workers)\n",
            "  File \"/home/superai2-4031/fairseq/fairseq/file_chunker_utils.py\", line 25, in find_offsets\n",
            "    with open(filename, \"r\", encoding=\"utf-8\") as f:\n",
            "FileNotFoundError: [Errno 2] No such file or directory: './aun_test/test.bpe.src'\n"
          ]
        }
      ],
      "source": [
        "#!python /content/fairseq/fairseq_cli/preprocess.py \\\n",
        "!python '/home/superai2-4031/fairseq/fairseq_cli/preprocess.py' \\\n",
        "--trainpref ./train.bpe  \\\n",
        "--testpref ./aun_test/test.bpe -s src -t trg\\\n",
        "--destdir ./aun_test/data_enth_bin_test/ \\\n",
        "--workers 32"
      ]
    },
    {
      "cell_type": "code",
      "execution_count": null,
      "metadata": {},
      "outputs": [],
      "source": [
        "!fairseq-generate ./aun_test/data_enth_bin_test \\\n",
        "--path /home/superai2-4031/data/bpe/checkpoints/checkpoint_best.pt \\\n",
        "--batch-size 128 --beam 5 --remove-bpe \\\n",
        "| grep -P \"[D|T]-[0-9]+\" > log_test.txt"
      ]
    },
    {
      "cell_type": "code",
      "execution_count": null,
      "metadata": {},
      "outputs": [],
      "source": [
        "REF = []\n",
        "translated = []\n",
        "for line in open(\"log_test.txt\",'r',encoding='utf8').readlines():\n",
        "  splited_line = line.split('\\t')\n",
        "  if 'T' in splited_line[0]:\n",
        "    REF.append(splited_line[1].strip())\n",
        "  else:\n",
        "    translated.append(splited_line[2].strip())\n",
        "  # print(splited_line)\n",
        "  # break\n",
        "open('REF_test.txt','w',encoding='utf8').write('\\n'.join(REF))\n",
        "open('translated_test.txt','w',encoding='utf8').write('\\n'.join(translated))"
      ]
    },
    {
      "cell_type": "code",
      "execution_count": null,
      "metadata": {},
      "outputs": [],
      "source": [
        "!pwd"
      ]
    },
    {
      "cell_type": "code",
      "execution_count": null,
      "metadata": {},
      "outputs": [],
      "source": [
        "!cat translated_test.txt | sacrebleu REF_test.txt"
      ]
    }
  ],
  "metadata": {
    "accelerator": "GPU",
    "colab": {
      "collapsed_sections": [],
      "name": "Fairseq Tutorial.ipynb",
      "provenance": []
    },
    "kernelspec": {
      "display_name": "Python 3",
      "name": "python3"
    },
    "language_info": {
      "codemirror_mode": {
        "name": "ipython",
        "version": 3
      },
      "file_extension": ".py",
      "mimetype": "text/x-python",
      "name": "python",
      "nbconvert_exporter": "python",
      "pygments_lexer": "ipython3",
      "version": "3.9.7"
    }
  },
  "nbformat": 4,
  "nbformat_minor": 0
}
